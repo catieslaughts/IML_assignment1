{
 "cells": [
  {
   "cell_type": "markdown",
   "metadata": {},
   "source": [
    "### Assignment 1"
   ]
  },
  {
   "cell_type": "code",
   "execution_count": 1,
   "metadata": {},
   "outputs": [
    {
     "name": "stdout",
     "output_type": "stream",
     "text": [
      "Current working directory:  /Users/catherineslaughter/Documents/Schoolwork/Fall2022/IML/Assignment1/repo\n"
     ]
    }
   ],
   "source": [
    "import sys\n",
    "#!{sys.executable} -m pip install numpy\n",
    "import os\n",
    "print(\"Current working directory: \", os.getcwd())"
   ]
  },
  {
   "cell_type": "code",
   "execution_count": 2,
   "metadata": {},
   "outputs": [],
   "source": [
    "# Import the necessary libraries/packages here\n",
    "import numpy as np\n",
    "import matplotlib.pyplot as plt\n",
    "# import math"
   ]
  },
  {
   "cell_type": "markdown",
   "metadata": {},
   "source": [
    "### Helpful Notes:\n",
    "1. Dataset 1: a linearly separable dataset where you can test the correctness of your base learner and boosting algorithms\n",
    "   \n",
    "   300 samples 2 features\n",
    "   \n",
    "   ![dataset1.png](./dataset1.png)\n",
    "   \n",
    "   Generally speaking, your learners shall 100% correctly classify the data in dataset 1.\n",
    "\n",
    "2. Dataset 2 ~ 4 : non-linearly separable cases, applying descent boosting techniques can be beneficial\n",
    "   \n",
    "   Dataset 2: 300 samples 2 features. In comparison to the performance of your single base learner, does your boosting algorithm perferm better?\n",
    "      \n",
    "   ![dataset2.png](./dataset2.png)\n",
    "      \n",
    "   Dataset 3: 400 samples 2 features (challenging)\n",
    "\n",
    "      A good classifier shall obtain a ellipse-like decision boundary on this dataset. Can your algorithms handle this dataset? If not, can you try to give reasonable explanations?\n",
    "\n",
    "   ![dataset3.png](./dataset3.png)\n",
    "\n",
    "   Dataset 4: 3000 samples 10 features (more challenging)\n",
    "   \n",
    "      This is more or less the higher dimensional version of dataset3. We visualize the first two features of dataset 3, As it is shown in the following figure, they are non-linearly separable. \n",
    "      \n",
    "      How do your algorithms perform?\n",
    "\n",
    "   ![dataset4.png](./dataset4.png)\n",
    "\n",
    "   \n",
    "3. The data is also provided in csv format:\n",
    "   1. Feature columns and a label column \n",
    "   \n",
    "HINTs: \n",
    "1. Split the data into two parts (i.e., training data and test data).\n",
    "2. Draw decision boundary (surface) of your classifiers (on dataset 1 & 2) can be helpful.\n",
    "3. Carefully design your experiments so that you can understand the influence of increasing or decreasing some parameters (e.g., learning rate, number of base learners in boosting Alg.)\n",
    "4. Make smart implementations (e.g., vectorization using numpy to avoid some nested-loops in python), so that you can efficiently run more experiments\n",
    "5. The performance of your classifiers is not of high priority in this assignment.\n",
    "   1. The datasets are all artificially generated (toy) data, in principle, there is no need to preprocess the data.\n",
    "   2. Constructive discussions on your findings are more important. If the results are not good, try to find out the reasons.\n",
    "   3. We hope this assignment can help you fill in the gap between theory and application.\n",
    "6. You are encouraged to implement not only Adaboost but also other boosting algorithms of your choice."
   ]
  },
  {
   "cell_type": "code",
   "execution_count": 3,
   "metadata": {},
   "outputs": [
    {
     "name": "stdout",
     "output_type": "stream",
     "text": [
      "(300, 2)\n",
      "(300,)\n"
     ]
    }
   ],
   "source": [
    "\"\"\" Load the dataset\n",
    "Dataset (Numpy npz file)\n",
    "|- features (Numpy.ndarray)\n",
    "|- labels (Numpy.ndarray)\n",
    "\n",
    "The data is also provided in csv format.\n",
    "\"\"\"\n",
    "\n",
    "def load_data(file_name='./dataset1.npz'):\n",
    "    \"\"\" Load the Numpy npz format dataset \n",
    "    Args:\n",
    "        file_name (string): name and path to the dataset (dataset1.npz, dataset2.npz, dataset3.npz)\n",
    "    Returns:\n",
    "        X (Numpy.ndarray): features\n",
    "        y (Numpy.ndarray): 1D labels\n",
    "    \"\"\"\n",
    "    import numpy as np\n",
    "    data = np.load(file_name)\n",
    "    X, y = data['features'], data['labels']\n",
    "    return X, y\n",
    "\n",
    "# Load dataset 1 by default\n",
    "X, y =load_data()\n",
    "print(X.shape)\n",
    "print(y.shape)"
   ]
  },
  {
   "cell_type": "code",
   "execution_count": 12,
   "metadata": {},
   "outputs": [],
   "source": [
    "def plot_data(X,y,output, all_learners = np.asarray([]), dataset = 1):\n",
    "    pos_right = np.empty((1,2))\n",
    "    pos_wrong = np.empty((1,2))\n",
    "    neg_right = np.empty((1,2))\n",
    "    neg_wrong = np.empty((1,2))\n",
    "\n",
    "    for i in range(y.size-1):\n",
    "        if y[i] > 0:\n",
    "            if y[i] == output[i]:\n",
    "                pos_right = np.append(pos_right, np.reshape(X[i][0:2], (1,2)), axis = 0)\n",
    "            else:\n",
    "                pos_wrong = np.append(pos_wrong, np.reshape(X[i][0:2], (1,2)), axis = 0)\n",
    "        else:\n",
    "            if y[i] == output[i]:\n",
    "                neg_right = np.append(neg_right, np.reshape(X[i][0:2], (1,2)), axis = 0)\n",
    "            else:\n",
    "                neg_wrong = np.append(neg_wrong, np.reshape(X[i][0:2], (1,2)), axis = 0)\n",
    "\n",
    "    pos_right = np.delete(pos_right, 0, axis = 0)\n",
    "    pos_wrong = np.delete(pos_wrong, 0, axis = 0)\n",
    "    neg_right = np.delete(neg_right, 0, axis = 0)\n",
    "    neg_wrong = np.delete(neg_wrong, 0, axis = 0)\n",
    "    \n",
    "\n",
    "    plt.scatter(pos_right[:,0],pos_right[:,1], c = 'blue', marker = '.', label = '+1, Correct')\n",
    "    plt.scatter(pos_wrong[:,0],pos_wrong[:,1], c = 'blue', marker = 'x', label = '+1, Inorrect')\n",
    "    plt.scatter(neg_right[:,0],neg_right[:,1], c = 'green', marker = '.', label = '-1, Correct')\n",
    "    plt.scatter(neg_wrong[:,0],neg_wrong[:,1], c = 'green', marker = 'x', label = '-1, Inorrect')\n",
    "    \n",
    "    \n",
    "    x_line = np.linspace(X[:,0].min()*1.1, X[:,0].max()*1.1, 100)\n",
    "    if np.size(all_learners)!=0:\n",
    "        count = 0\n",
    "        for learner in all_learners:\n",
    "            count += 1\n",
    "            w_x = learner.w[0]\n",
    "            w_y = learner.w[1]\n",
    "            \n",
    "            y_line = (-w_x/w_y)*x_line + learner.b/np.abs(w_y)\n",
    "            \n",
    "            plt.plot(x_line,y_line, c = 'grey', linestyle = 'dashed')\n",
    "        \n",
    "        plt.title('Ensemble Result with '+str(np.size(all_learners))+' Weak Learners DS'+str(dataset))\n",
    "    else:\n",
    "        plt.title('Ensemble Result DS'+str(dataset))\n",
    "    \n",
    "    plt.ylim(-2.1,3)\n",
    "    plt.xlim(x_line[0],x_line[-1])\n",
    "    \n",
    "    plt.legend(loc='center left', bbox_to_anchor=(1, 0.5))\n",
    "    \n",
    "    pass\n",
    "\n",
    "def calc_loss(output, y):\n",
    "    loss = np.sum(output!=y)/output.size\n",
    "    \n",
    "    return loss\n",
    "            "
   ]
  },
  {
   "cell_type": "markdown",
   "metadata": {},
   "source": [
    "### Skeleton codes:\n",
    "You should follow the structure of this code:"
   ]
  },
  {
   "cell_type": "code",
   "execution_count": 77,
   "metadata": {},
   "outputs": [],
   "source": [
    "class Perceptron:\n",
    "    # Implement your base learner here\n",
    "    def __init__(self, learning_rate, max_iter, **kwargs):\n",
    "        \"\"\" Initialize the parameters here \n",
    "        Args:\n",
    "            learning_rate (float or a collection of floats): your learning rate\n",
    "            max_iter (int): the maximum number of training iterations\n",
    "            Other parameters of your choice\n",
    "\n",
    "        Examples ToDos:\n",
    "        self.learning_rate = learning_rate\n",
    "        self.max_iter = max_iter\n",
    "\n",
    "        Try different initialization strategies (as required in Question 2.3)\n",
    "        \"\"\"\n",
    "        self.learning_rate = learning_rate\n",
    "        self.max_iter = max_iter\n",
    "        \n",
    "        return\n",
    "\n",
    "    def fit(self, X, y, **kwargs):\n",
    "        \"\"\" Implement the training strategy here\n",
    "        Args:\n",
    "            X (Numpy.ndarray, list, etc.): The training data\n",
    "            y (Numpy.ndarray, list, etc.): The labels\n",
    "            Other parameters of your choice\n",
    "\n",
    "        Example ToDos:\n",
    "        # for _ in range(self.max_iter):\n",
    "        #     Update the parameters of Perceptron according to the learning rate (self.learning_rate) and data (X, y)\n",
    "        \"\"\" \n",
    "        self.w = np.random.rand(X.shape[1], 1)\n",
    "        #self.w = np.zeros((X.shape[1], 1))  # Initialize the weights to zero\n",
    "        self.b = 1  # Initialize bias with 1\n",
    "        self.any_false = True\n",
    "        self.iter = 0\n",
    "        \n",
    "        curr_lr = self.learning_rate\n",
    "        \n",
    "        lr_arr = np.ones(1)*curr_lr\n",
    "        loss_arr = np.ones(1)*calc_loss(self.predict(X),y)\n",
    "        # Count the number of samples not correctly classified\n",
    "        while self.any_false and self.iter < self.max_iter:\n",
    "            #print(curr_lr)\n",
    "            mis_classified_number = 0\n",
    "            for i in range(X.shape[0]):\n",
    "                X_i = X[i]\n",
    "                y_i = y[i]\n",
    "                classify_result = np.dot(self.w.T, X_i.T) + self.b\n",
    "                \n",
    "                if y_i * classify_result < 0:  # This means sample is misclassified\n",
    "                    self.w += curr_lr * np.dot(X_i, y_i).reshape(self.w.shape[0], self.w.shape[1])\n",
    "                    self.b += curr_lr * y_i\n",
    "                    mis_classified_number += 1\n",
    "            if mis_classified_number == 0:\n",
    "                self.any_false = False  # If there isn't any sample misclassified, then the loop will end\n",
    "            else:\n",
    "                self.any_false = True  # If there is still any misclassified sample, then the loop kees running\n",
    "            self.iter += 1\n",
    "            curr_lr = curr_lr/self.iter\n",
    "            lr_arr = np.append(lr_arr, curr_lr)\n",
    "            loss_arr = np.append(loss_arr, calc_loss(self.predict(X),y))\n",
    "        #print(self.w)\n",
    "        #print(self.b)\n",
    "        \n",
    "        return lr_arr, loss_arr\n",
    "\n",
    "    def predict(self, x, **kwargs) -> np.ndarray:\n",
    "        \"\"\" Implement the prediction strategy here\n",
    "        Args:\n",
    "            x (Numpy.ndarray, list, Numpy.array, etc.): The input data\n",
    "            Other parameters of your choice\n",
    "        Return(s):\n",
    "            The prediction value(s), namely, class label(s), others of your choice\n",
    "        \"\"\" \n",
    "        labels = np.zeros(x.shape[0]).astype(int)\n",
    "        for i, data_point in enumerate(x):\n",
    "            temp = np.dot(self.w.T, data_point.T) + self.b\n",
    "            if temp < 0:\n",
    "                labels[i] = -1\n",
    "            else:\n",
    "                labels[i] = 1\n",
    "\n",
    "\n",
    "        return labels"
   ]
  },
  {
   "cell_type": "code",
   "execution_count": 142,
   "metadata": {},
   "outputs": [],
   "source": [
    "class BoostingAlgorithm:\n",
    "    # Implement your boosting algorithm here\n",
    "    def __init__(self, n_estimators, **kwargs):\n",
    "        \"\"\" Initialize the parameters here \n",
    "        Args:\n",
    "            n_estimators (int): number of base perceptron models\n",
    "            Other parameters of your choice\n",
    "        \n",
    "        Think smartly on how to utilize multiple perceptron models\n",
    "        \"\"\"\n",
    "        self.n_estimators = n_estimators\n",
    "        self.alpha = np.empty(n_estimators)\n",
    "        self.learners = np.empty(n_estimators, dtype=object)\n",
    "        \n",
    "        pass\n",
    "\n",
    "    def fit(self, X, y, **kwargs):\n",
    "        \"\"\" Implement the training strategy here\n",
    "        Args:X (Numpy.ndarray, list, etc.): The training data\n",
    "            y (Numpy.ndarray, list, etc.): The labels\n",
    "            Other parameters of your choice\n",
    "        \"\"\" \n",
    "        learning_rate = 1 #starts at 1\n",
    "        max_iter = 200 #maximum iterations\n",
    "        \n",
    "        training_data_len = y.size / 2 #can be changed\n",
    "        \n",
    "        curr_w = np.ones(y.size)\n",
    "        curr_w = curr_w/y.size #sum(curr_w) should equal 1\n",
    "        \n",
    "        curr_X = X.copy()\n",
    "        curr_y = y.copy()\n",
    "        \n",
    "        \n",
    "        sort_idx = np.arange(y.size) #creates array of indexes for sorting\n",
    "        \n",
    "        for i in range(self.n_estimators):\n",
    "            self.learners[i] = Perceptron(learning_rate, max_iter)#create current learner\n",
    "            \n",
    "            idx_array = np.arange(curr_y.size)\n",
    "            subset_idx = np.random.choice(idx_array, size=int(training_data_len), replace=False, p=curr_w)\n",
    "            X_sub, y_sub = curr_X[subset_idx], curr_y[subset_idx]#randomly select subset to train, weighted\n",
    "            \n",
    "            self.learners[i].fit(X_sub, y_sub)#train learner\n",
    "            output = self.learners[i].predict(curr_X) #predict\n",
    "            \n",
    "            wrong = np.asarray([int(j) for j in (curr_y != output)])\n",
    "            \n",
    "            if sum(wrong) == 0:\n",
    "                err = np.dot(curr_w, wrong)/.000001 #avoids divide by zero errors\n",
    "                self.alpha[i] = .5 * np.log((1 - err)/.000001)\n",
    "            else:\n",
    "                err = np.dot(curr_w, wrong)/sum(wrong)\n",
    "                self.alpha[i] = .5 * np.log((1 - err)/err)\n",
    "            \n",
    "            update_sign = np.asarray([j if j == 1 else -1 for j in wrong])\n",
    "            \n",
    "            new_weights = curr_w * np.exp(update_sign * self.alpha[i])#update weights\n",
    "            new_weights = new_weights / np.sum(new_weights) #normalize to 1\n",
    "            \n",
    "            curr_w = new_weights\n",
    "        pass   \n",
    "        #return self.learners\n",
    "\n",
    "    def predict(self, x, **kwargs):\n",
    "        \"\"\" Implement the prediction strategy here\n",
    "        Args:\n",
    "            x (Numpy.ndarray, list, Numpy.array, etc.): The input data\n",
    "            Other parameters of your choice\n",
    "        Return(s):\n",
    "            The prediction value, namely, class label(s)\n",
    "        \"\"\" \n",
    "        #print(self.learners)\n",
    "        pred_sum = 0\n",
    "        #print(\"alphas: \"+str(self.alpha.size))\n",
    "        for i, learner in enumerate(self.learners):\n",
    "            test = learner.predict(x)\n",
    "            pred_sum += test*self.alpha[i]\n",
    "        \n",
    "        pred_avg = pred_sum/self.n_estimators #the weighted average prediction\n",
    "        \n",
    "        prediction = np.asarray([-1 if i < 0 else 1 for i in pred_avg])\n",
    "        \n",
    "        return prediction"
   ]
  },
  {
   "cell_type": "code",
   "execution_count": 7,
   "metadata": {},
   "outputs": [],
   "source": [
    "def run(n_estimators = 100, dataset = './dataset1.npz', **kwargs):\n",
    "    \"\"\" Single run of your classifier\n",
    "    # Load the data\n",
    "    X, y = load_data()\n",
    "    # Find a way to split the data into training and test sets\n",
    "    -> X_train, y_train, X_test, y_test\n",
    "    \n",
    "    # Initialize the classifier\n",
    "    base = Perceptron(\"your parameters\")\n",
    "    \n",
    "    # Train the classifier\n",
    "    base.fit(X_train, y_train, \"other parameters\")\n",
    "   \n",
    "    # Test and score the base learner using the test data\n",
    "    y_pred = base.predict(X_test, \"other parameters\")\n",
    "    score = SCORING(y_pred, y_test)\n",
    "    \"\"\"\n",
    "    \n",
    "    X, y = load_data(dataset)\n",
    "    idx_array = np.arange(y.size)\n",
    "    \n",
    "    training_size = int(.6*y.size) #number of points to be selected for the training set\n",
    "    train_idx = np.random.choice(idx_array, size=training_size, replace=False)\n",
    "    \n",
    "    X_train, y_train = X[train_idx], y[train_idx]\n",
    "    X_test, y_test = np.delete(np.copy(X), train_idx, axis = 0), np.delete(np.copy(y), train_idx, axis = 0)\n",
    "    \n",
    "    strong_learner = BoostingAlgorithm(n_estimators)\n",
    "    \n",
    "    strong_learner.fit(X_train, y_train)\n",
    "    output = strong_learner.predict(X_test)\n",
    "    \n",
    "    all_learners = strong_learner.learners\n",
    "    alphas = strong_learner.alpha\n",
    "    \n",
    "    return X_test, y_test, output, all_learners, alphas\n"
   ]
  },
  {
   "cell_type": "code",
   "execution_count": 157,
   "metadata": {
    "scrolled": false
   },
   "outputs": [
    {
     "name": "stdout",
     "output_type": "stream",
     "text": [
      "120 out of 120, 100.0%\n"
     ]
    }
   ],
   "source": [
    "n_estimators = 50\n",
    "dataset = './dataset1.npz'\n",
    "\n",
    "X, y, output, all_learners, alphas = run(n_estimators, dataset)\n",
    "print(str(np.sum(output==y))+' out of '+str(output.size)+', '+str((np.sum(output==y)/output.size)*100)+'%')"
   ]
  },
  {
   "cell_type": "code",
   "execution_count": 159,
   "metadata": {},
   "outputs": [
    {
     "data": {
      "image/png": "[encoded data removed]",
      "text/plain": [
       "<Figure size 640x480 with 1 Axes>"
      ]
     },
     "metadata": {},
     "output_type": "display_data"
    }
   ],
   "source": [
    "plot_data(X,y,output, dataset=1)"
   ]
  },
  {
   "cell_type": "code",
   "execution_count": null,
   "metadata": {},
   "outputs": [],
   "source": []
  },
  {
   "cell_type": "markdown",
   "metadata": {},
   "source": [
    "### \"How stable is your base algorithm to the choices of learning rate?\"\""
   ]
  },
  {
   "cell_type": "code",
   "execution_count": 106,
   "metadata": {},
   "outputs": [],
   "source": [
    "n_estimators = 1\n",
    "dataset = './dataset1.npz'\n",
    "\n",
    "X, y, output, all_learners, alphas = run(n_estimators, dataset = './dataset2.npz')"
   ]
  },
  {
   "cell_type": "code",
   "execution_count": 107,
   "metadata": {},
   "outputs": [],
   "source": [
    "learning_rate = 1 #inital\n",
    "max_iter = 200\n",
    "\n",
    "weak_learner = Perceptron(learning_rate, max_iter)\n",
    "\n",
    "lr_arr2, loss_arr2 = weak_learner.fit(X, y)"
   ]
  },
  {
   "cell_type": "code",
   "execution_count": 111,
   "metadata": {},
   "outputs": [
    {
     "data": {
      "image/png": "[encoded data removed]",
      "text/plain": [
       "<Figure size 640x480 with 1 Axes>"
      ]
     },
     "metadata": {},
     "output_type": "display_data"
    }
   ],
   "source": [
    "plt.plot(lr_arr1[1:], loss_arr1[1:], marker = 'o', label = 'r(n) = 1/n')\n",
    "plt.plot(lr_arr2[1:], loss_arr2[1:], marker = 'o', label = 'r(n) = r(n-1)/n')\n",
    "plt.axhline(.5, c = 'grey',linestyle = 'dashed')\n",
    "plt.gca().invert_xaxis()\n",
    "plt.xlabel('Current Learning Rate')\n",
    "plt.ylabel('Loss')\n",
    "#plt.ylim([0,1])\n",
    "plt.title('Loss vs. Learning Rate')\n",
    "plt.legend\n",
    "plt.show()"
   ]
  },
  {
   "cell_type": "markdown",
   "metadata": {},
   "source": [
    "### \"How does the sample distribution update rule impact the performance of the ensemble? Hint: show how the performance of the ensemble changes in each iteration.\""
   ]
  },
  {
   "cell_type": "code",
   "execution_count": 139,
   "metadata": {},
   "outputs": [
    {
     "name": "stdout",
     "output_type": "stream",
     "text": [
      "62 out of 120, 51.66666666666667%\n"
     ]
    }
   ],
   "source": [
    "n_estimators = 100\n",
    "dataset = './dataset2.npz'\n",
    "\n",
    "X, y, output, all_learners, alphas = run(n_estimators, dataset)\n",
    "print(str(np.sum(output==y))+' out of '+str(output.size)+', '+str((np.sum(output==y)/output.size)*100)+'%')"
   ]
  },
  {
   "cell_type": "code",
   "execution_count": 140,
   "metadata": {},
   "outputs": [],
   "source": [
    "num_learners = np.linspace(1,n_estimators+1,10, dtype = int)\n",
    "losses = np.zeros_like(num_learners, dtype = float)\n",
    "\n",
    "for idx, num in enumerate(num_learners):\n",
    "    test_ensemble = BoostingAlgorithm(num)\n",
    "    test_ensemble.learners = all_learners[0:num]\n",
    "    test_ensemble.alpha = alphas[0:num]\n",
    "    output2 = test_ensemble.predict(X)\n",
    "    \n",
    "    losses[idx] = calc_loss(output2, y)\n",
    "\n",
    "losses2 = losses"
   ]
  },
  {
   "cell_type": "code",
   "execution_count": 144,
   "metadata": {
    "scrolled": false
   },
   "outputs": [
    {
     "data": {
      "image/png": "[encoded data removed]",
      "text/plain": [
       "<Figure size 640x480 with 1 Axes>"
      ]
     },
     "metadata": {},
     "output_type": "display_data"
    }
   ],
   "source": [
    "plt.plot(num_learners, losses1, marker = 'o', label = 'Updating Probability Distribution')\n",
    "plt.plot(num_learners, losses2, marker = 'o', label = 'Uniform Probability Distribution')\n",
    "plt.axhline(.5, c = 'grey',linestyle = 'dashed')\n",
    "plt.xlabel('Number of Learners Added')\n",
    "plt.ylabel('Loss')\n",
    "plt.ylim([0,1])\n",
    "plt.title('Loss vs. AdaBoost Iteration')\n",
    "plt.legend()\n",
    "plt.show()"
   ]
  },
  {
   "cell_type": "markdown",
   "metadata": {},
   "source": [
    "### \"How does the ensemble compare to the base learner? Is the difference always present, why? Hint: there are 3 2D-datasets present in the testsuite, visualize your final models on both of these.\""
   ]
  },
  {
   "cell_type": "code",
   "execution_count": null,
   "metadata": {},
   "outputs": [],
   "source": [
    "dataset = './dataset4.npz'\n",
    "\n",
    "num_learners = np.asarray([1, 5, 10, 15, 20, 30, 50, 100])\n",
    "iterations = 15\n",
    "averages = np.zeros(num_learners.shape)\n",
    "std_devs = np.zeros(num_learners.shape)\n",
    "\n",
    "for i, num in enumerate(num_learners):\n",
    "    losses = np.zeros(iterations)\n",
    "    avg_loss = 0\n",
    "    for j in range(iterations):\n",
    "        X,y,output,all_learners,alphas = run(num, dataset)\n",
    "        loss = (np.sum(output!=y)/output.size)\n",
    "        losses[j] = loss\n",
    "        avg_loss += loss\n",
    "#     if i == 0:\n",
    "#         print(losses)\n",
    "    averages[i] = avg_loss/iterations\n",
    "    std_devs[i] = np.std(losses)"
   ]
  },
  {
   "cell_type": "code",
   "execution_count": null,
   "metadata": {
    "scrolled": false
   },
   "outputs": [],
   "source": [
    "plt.errorbar(num_learners, averages, yerr = std_devs, marker = 'o', ecolor='g')\n",
    "plt.axhline(.5, c = 'grey',linestyle = 'dashed')\n",
    "plt.xlabel('Number of Learners in Ensemble')\n",
    "plt.ylabel('Average Loss (Over '+ str(iterations) +' iterations)')\n",
    "plt.ylim([0,1])\n",
    "plt.title('Avg. Loss vs. Num. Learners for DS3')\n",
    "plt.show()"
   ]
  },
  {
   "cell_type": "code",
   "execution_count": null,
   "metadata": {},
   "outputs": [],
   "source": [
    "# fig, ax = plt.subplots(2,1)\n",
    "\n",
    "\n",
    "# ax[0].errorbar(num_learners, averages, yerr = std_devs, marker = 'o', ecolor='g')\n",
    "# ax[0].set_ylabel('Average Loss')\n",
    "# ax[0].set_ylim([-.003,.015])\n",
    "# ax[0].set_title('Avg. Loss vs. Num. Learners for DS1')\n",
    "\n",
    "# ax[1].errorbar(num_learners, averages, yerr = std_devs, marker = 'o', ecolor='g')\n",
    "# ax[1].axhline(.5, c = 'grey',linestyle = 'dashed')\n",
    "# ax[1].set_xlabel('Number of Learners in Ensemble')\n",
    "# ax[1].set_ylabel('Average Loss')\n",
    "# ax[1].set_ylim([-.05,1])\n",
    "\n",
    "# plt.show()"
   ]
  },
  {
   "cell_type": "markdown",
   "metadata": {},
   "source": [
    "Good luck with the assignment"
   ]
  }
 ],
 "metadata": {
  "kernelspec": {
   "display_name": "Python 3 (ipykernel)",
   "language": "python",
   "name": "python3"
  },
  "language_info": {
   "codemirror_mode": {
    "name": "ipython",
    "version": 3
   },
   "file_extension": ".py",
   "mimetype": "text/x-python",
   "name": "python",
   "nbconvert_exporter": "python",
   "pygments_lexer": "ipython3",
   "version": "3.10.6"
  },
  "vscode": {
   "interpreter": {
    "hash": "90d3069fe3c3b20e4fbf57bf0cb04fe664322e8b41cb56c6c22d386a330b3fc4"
   }
  }
 },
 "nbformat": 4,
 "nbformat_minor": 2
}
